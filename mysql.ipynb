{
 "cells": [
  {
   "cell_type": "code",
   "execution_count": 2,
   "metadata": {},
   "outputs": [
    {
     "name": "stdout",
     "output_type": "stream",
     "text": [
      "start select all 20000 time:  0:00:00.041870\n"
     ]
    }
   ],
   "source": [
    "import mysql.connector\n",
    "from __future__ import print_function\n",
    "from datetime import date, datetime, timedelta\n",
    "cnx = mysql.connector.connect(user='root', password='12345',\n",
    "                              host='127.0.0.1',\n",
    "                              database='book')\n",
    "def insertData1Table(cnx,numRows):\n",
    "    startTime = datetime.now()\n",
    "    cursor = cnx.cursor()\n",
    "    index = 1\n",
    "    add_book = (\"INSERT INTO SACH \"\n",
    "               \"(mssach, tensach, msnxb, sotien, sotrang) \"\n",
    "               \"VALUES (%s, %s, %s, %s, %s)\")\n",
    "    while(index < numRows+1):\n",
    "        data_book = (str(index), 'ten sach so ' + str(index), str(index), str(index), str(index))\n",
    "        cursor.execute(add_book, data_book)\n",
    "        index = index + 1\n",
    "    cnx.commit()\n",
    "    cursor.close()\n",
    "    cnx.close()\n",
    "    print('end insert '+ str(numRows) + ' time: ',datetime.now() - startTime)\n",
    "    \n",
    "#insertData1Table(cnx,20000)\n",
    "\n",
    "def updateAllData1Table(cnx,numRows):\n",
    "    startTime = datetime.now()\n",
    "    cursor = cnx.cursor()\n",
    "    update_book = \"UPDATE SACH SET sotien ='20000'\"\n",
    "    cursor.execute(update_book)\n",
    "    cnx.commit()\n",
    "    cursor.close()\n",
    "    cnx.close()\n",
    "    print('start update '+ str(numRows) + ' time: ',datetime.now() -startTime)\n",
    "    \n",
    "# updateAllData1Table(cnx,20000)\n",
    "    \n",
    "def deleteAllData1Table(cnx,numRows):\n",
    "    startTime = datetime.now()\n",
    "    cursor = cnx.cursor()\n",
    "    delete_book = \"DELETE FROM SACH\"\n",
    "    cursor.execute(delete_book)\n",
    "    cnx.commit()\n",
    "    cursor.close()\n",
    "    cnx.close()\n",
    "    print('start delete '+ str(numRows) + ' time: ',datetime.now() - startTime)\n",
    "    \n",
    "#deleteAllData1Table(cnx,20000)\n",
    "\n",
    "def selectAllData1Table(cnx,numRows):\n",
    "    startTime = datetime.now()\n",
    "    cursor = cnx.cursor()\n",
    "    select_book = \"SELECT * FROM SACH\"\n",
    "    cursor.execute(select_book)\n",
    "    results = cursor.fetchall()\n",
    "    cursor.close()\n",
    "    cnx.close()\n",
    "    print('start select all '+ str(numRows) + ' time: ',datetime.now() - startTime)\n",
    "    \n",
    "\n",
    "selectAllData1Table(cnx,20000)"
   ]
  },
  {
   "cell_type": "code",
   "execution_count": null,
   "metadata": {},
   "outputs": [],
   "source": []
  },
  {
   "cell_type": "code",
   "execution_count": null,
   "metadata": {},
   "outputs": [],
   "source": []
  }
 ],
 "metadata": {
  "kernelspec": {
   "display_name": "Python 3",
   "language": "python",
   "name": "python3"
  },
  "language_info": {
   "codemirror_mode": {
    "name": "ipython",
    "version": 3
   },
   "file_extension": ".py",
   "mimetype": "text/x-python",
   "name": "python",
   "nbconvert_exporter": "python",
   "pygments_lexer": "ipython3",
   "version": "3.6.5"
  }
 },
 "nbformat": 4,
 "nbformat_minor": 2
}
