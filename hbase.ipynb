{
 "cells": [
  {
   "cell_type": "code",
   "execution_count": 1,
   "metadata": {},
   "outputs": [
    {
     "name": "stdout",
     "output_type": "stream",
     "text": [
      "end insert 20000 time:  0:00:18.468411\n"
     ]
    }
   ],
   "source": [
    "import happybase\n",
    "from __future__ import print_function\n",
    "from datetime import date, datetime, timedelta\n",
    "\n",
    "connection = happybase.Connection('127.0.0.1',9090)\n",
    "\n",
    "\n",
    "def insertData1Table(connection, numRows):\n",
    "    startTime = datetime.now()\n",
    "    index = 0\n",
    "    table = connection.table('SACH')\n",
    "    while(index < numRows):\n",
    "        table.put(str(index),{'TENSACH:TENSACH' : 'ten sach ' + str(index),\n",
    "                         'MSNXB:MSNXB':'MSNXB' + str(index),\n",
    "                        'SOTIEN:SOTIEN' : str(index),\n",
    "                        'SOTRANG:SOTRANG' : str(index),\n",
    "                        'MSTG:MSTG' : 'MSTG' + str(index)})\n",
    "        index = index + 1\n",
    "    print('end insert '+ str(numRows) + ' time: ',datetime.now() - startTime)\n",
    "insertData1Table(connection, 20000)\n",
    "def updateData1Table(connection, numRows):\n",
    "    startTime = datetime.now()\n",
    "    index = 0\n",
    "    table = connection.table('SACH')\n",
    "    datas = table.scan()\n",
    "    for key, data in datas:\n",
    "        table.put(key,{'TENSACH:TENSACH' : 'ten sach new' + str(numRows)})\n",
    "\n",
    "    print('end update '+ str(numRows) + ' time: ',datetime.now() - startTime)\n",
    "# updateData1Table(connection,1)    \n",
    "\n",
    "def deleteData1Table(connection, numRows):\n",
    "    startTime = datetime.now()\n",
    "    table = connection.table('SACH')\n",
    "    datas = table.scan()\n",
    "    for key, data in datas:\n",
    "        table.delete(key)\n",
    "    print('end delete '+ str(numRows) + ' time: ',datetime.now() - startTime)\n",
    "    \n",
    "# deleteData1Table(connection, 1)\n",
    "\n",
    "def selectAllData1Table(connection):\n",
    "    startTime = datetime.now()\n",
    "    index = 0\n",
    "    table = connection.table('SACH')\n",
    "    data = table.scan()\n",
    "    for t in data:\n",
    "        print(t)\n",
    "    print('end select all time: ',datetime.now() - startTime)\n",
    "    \n",
    "def selectLimitData1Table(connection, numRows):\n",
    "    startTime = datetime.now()\n",
    "    table = connection.table('SACH')\n",
    "    data = table.scan(numRows)\n",
    "    \n",
    "    print('select limit '+ str(numRows) + ' time: ',datetime.now() - startTime)\n",
    "    \n",
    "# selectAllData1Table(connection) \n"
   ]
  },
  {
   "cell_type": "code",
   "execution_count": null,
   "metadata": {},
   "outputs": [],
   "source": []
  },
  {
   "cell_type": "code",
   "execution_count": null,
   "metadata": {},
   "outputs": [],
   "source": []
  },
  {
   "cell_type": "code",
   "execution_count": null,
   "metadata": {},
   "outputs": [],
   "source": []
  },
  {
   "cell_type": "code",
   "execution_count": null,
   "metadata": {},
   "outputs": [],
   "source": []
  },
  {
   "cell_type": "code",
   "execution_count": null,
   "metadata": {},
   "outputs": [],
   "source": []
  },
  {
   "cell_type": "code",
   "execution_count": null,
   "metadata": {},
   "outputs": [],
   "source": []
  },
  {
   "cell_type": "code",
   "execution_count": null,
   "metadata": {},
   "outputs": [],
   "source": []
  },
  {
   "cell_type": "code",
   "execution_count": null,
   "metadata": {},
   "outputs": [],
   "source": []
  }
 ],
 "metadata": {
  "kernelspec": {
   "display_name": "Python 3",
   "language": "python",
   "name": "python3"
  },
  "language_info": {
   "codemirror_mode": {
    "name": "ipython",
    "version": 3
   },
   "file_extension": ".py",
   "mimetype": "text/x-python",
   "name": "python",
   "nbconvert_exporter": "python",
   "pygments_lexer": "ipython3",
   "version": "3.6.5"
  }
 },
 "nbformat": 4,
 "nbformat_minor": 2
}
